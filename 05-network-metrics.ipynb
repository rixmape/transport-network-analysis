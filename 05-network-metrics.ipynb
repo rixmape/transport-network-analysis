{
 "cells": [
  {
   "cell_type": "markdown",
   "metadata": {
    "id": "q-CksUqasXbT"
   },
   "source": [
    "# Transport Network Metrics"
   ]
  },
  {
   "cell_type": "markdown",
   "metadata": {},
   "source": [
    "## 0 Setup environment"
   ]
  },
  {
   "cell_type": "code",
   "execution_count": null,
   "metadata": {
    "id": "m3Suwlq46VYN"
   },
   "outputs": [],
   "source": [
    "import os\n",
    "\n",
    "import geopandas as gpd\n",
    "import networkx as nx\n",
    "import osmnx as ox\n",
    "import pandas as pd\n",
    "from networkx import Graph"
   ]
  },
  {
   "cell_type": "code",
   "execution_count": 3,
   "metadata": {
    "id": "bfiHEdN2GxEv"
   },
   "outputs": [],
   "source": [
    "BASE_PATH = \"./data\"\n",
    "BOUNDARIES_FILE = os.path.join(BASE_PATH, \"boundaries.gpkg\")\n",
    "TRANSPORT_NETWORK_FILE = os.path.join(BASE_PATH, \"merged_network.graphml\")"
   ]
  },
  {
   "cell_type": "markdown",
   "metadata": {},
   "source": [
    "## 1 Load town boundaries"
   ]
  },
  {
   "cell_type": "code",
   "execution_count": 4,
   "metadata": {},
   "outputs": [
    {
     "data": {
      "text/html": [
       "<div>\n",
       "<style scoped>\n",
       "    .dataframe tbody tr th:only-of-type {\n",
       "        vertical-align: middle;\n",
       "    }\n",
       "\n",
       "    .dataframe tbody tr th {\n",
       "        vertical-align: top;\n",
       "    }\n",
       "\n",
       "    .dataframe thead th {\n",
       "        text-align: right;\n",
       "    }\n",
       "</style>\n",
       "<table border=\"1\" class=\"dataframe\">\n",
       "  <thead>\n",
       "    <tr style=\"text-align: right;\">\n",
       "      <th></th>\n",
       "      <th>town</th>\n",
       "      <th>province</th>\n",
       "      <th>geometry</th>\n",
       "    </tr>\n",
       "  </thead>\n",
       "  <tbody>\n",
       "    <tr>\n",
       "      <th>0</th>\n",
       "      <td>Bacacay</td>\n",
       "      <td>Albay</td>\n",
       "      <td>MULTIPOLYGON (((123.84193 13.3341, 123.84204 1...</td>\n",
       "    </tr>\n",
       "    <tr>\n",
       "      <th>1</th>\n",
       "      <td>Camalig</td>\n",
       "      <td>Albay</td>\n",
       "      <td>MULTIPOLYGON (((123.6559 13.06131, 123.65536 1...</td>\n",
       "    </tr>\n",
       "    <tr>\n",
       "      <th>2</th>\n",
       "      <td>Daraga</td>\n",
       "      <td>Albay</td>\n",
       "      <td>MULTIPOLYGON (((123.71487 13.03995, 123.71474 ...</td>\n",
       "    </tr>\n",
       "    <tr>\n",
       "      <th>3</th>\n",
       "      <td>Guinobatan</td>\n",
       "      <td>Albay</td>\n",
       "      <td>MULTIPOLYGON (((123.68355 13.25321, 123.67729 ...</td>\n",
       "    </tr>\n",
       "    <tr>\n",
       "      <th>4</th>\n",
       "      <td>Jovellar</td>\n",
       "      <td>Albay</td>\n",
       "      <td>MULTIPOLYGON (((123.6559 13.06131, 123.65568 1...</td>\n",
       "    </tr>\n",
       "  </tbody>\n",
       "</table>\n",
       "</div>"
      ],
      "text/plain": [
       "         town province                                           geometry\n",
       "0     Bacacay    Albay  MULTIPOLYGON (((123.84193 13.3341, 123.84204 1...\n",
       "1     Camalig    Albay  MULTIPOLYGON (((123.6559 13.06131, 123.65536 1...\n",
       "2      Daraga    Albay  MULTIPOLYGON (((123.71487 13.03995, 123.71474 ...\n",
       "3  Guinobatan    Albay  MULTIPOLYGON (((123.68355 13.25321, 123.67729 ...\n",
       "4    Jovellar    Albay  MULTIPOLYGON (((123.6559 13.06131, 123.65568 1..."
      ]
     },
     "execution_count": 4,
     "metadata": {},
     "output_type": "execute_result"
    }
   ],
   "source": [
    "gdf_boundaries = gpd.read_file(BOUNDARIES_FILE)\n",
    "gdf_boundaries.head()"
   ]
  },
  {
   "cell_type": "markdown",
   "metadata": {},
   "source": [
    "## 2 Load transport network"
   ]
  },
  {
   "cell_type": "code",
   "execution_count": null,
   "metadata": {},
   "outputs": [
    {
     "data": {
      "text/html": [
       "<div>\n",
       "<style scoped>\n",
       "    .dataframe tbody tr th:only-of-type {\n",
       "        vertical-align: middle;\n",
       "    }\n",
       "\n",
       "    .dataframe tbody tr th {\n",
       "        vertical-align: top;\n",
       "    }\n",
       "\n",
       "    .dataframe thead th {\n",
       "        text-align: right;\n",
       "    }\n",
       "</style>\n",
       "<table border=\"1\" class=\"dataframe\">\n",
       "  <thead>\n",
       "    <tr style=\"text-align: right;\">\n",
       "      <th></th>\n",
       "      <th>y</th>\n",
       "      <th>x</th>\n",
       "      <th>street_count</th>\n",
       "      <th>mode</th>\n",
       "      <th>highway</th>\n",
       "      <th>junction</th>\n",
       "      <th>railway</th>\n",
       "      <th>geometry</th>\n",
       "    </tr>\n",
       "    <tr>\n",
       "      <th>osmid</th>\n",
       "      <th></th>\n",
       "      <th></th>\n",
       "      <th></th>\n",
       "      <th></th>\n",
       "      <th></th>\n",
       "      <th></th>\n",
       "      <th></th>\n",
       "      <th></th>\n",
       "    </tr>\n",
       "  </thead>\n",
       "  <tbody>\n",
       "    <tr>\n",
       "      <th>300744370</th>\n",
       "      <td>11.762615</td>\n",
       "      <td>124.033762</td>\n",
       "      <td>3</td>\n",
       "      <td>road</td>\n",
       "      <td>NaN</td>\n",
       "      <td>NaN</td>\n",
       "      <td>NaN</td>\n",
       "      <td>POINT (124.03376 11.76261)</td>\n",
       "    </tr>\n",
       "    <tr>\n",
       "      <th>300744933</th>\n",
       "      <td>11.764680</td>\n",
       "      <td>124.063952</td>\n",
       "      <td>3</td>\n",
       "      <td>road</td>\n",
       "      <td>NaN</td>\n",
       "      <td>NaN</td>\n",
       "      <td>NaN</td>\n",
       "      <td>POINT (124.06395 11.76468)</td>\n",
       "    </tr>\n",
       "    <tr>\n",
       "      <th>300744970</th>\n",
       "      <td>11.863829</td>\n",
       "      <td>124.057783</td>\n",
       "      <td>3</td>\n",
       "      <td>road</td>\n",
       "      <td>NaN</td>\n",
       "      <td>NaN</td>\n",
       "      <td>NaN</td>\n",
       "      <td>POINT (124.05778 11.86383)</td>\n",
       "    </tr>\n",
       "    <tr>\n",
       "      <th>300746507</th>\n",
       "      <td>11.964546</td>\n",
       "      <td>123.991640</td>\n",
       "      <td>3</td>\n",
       "      <td>road</td>\n",
       "      <td>NaN</td>\n",
       "      <td>NaN</td>\n",
       "      <td>NaN</td>\n",
       "      <td>POINT (123.99164 11.96455)</td>\n",
       "    </tr>\n",
       "    <tr>\n",
       "      <th>300747572</th>\n",
       "      <td>11.851925</td>\n",
       "      <td>124.060147</td>\n",
       "      <td>3</td>\n",
       "      <td>road</td>\n",
       "      <td>NaN</td>\n",
       "      <td>NaN</td>\n",
       "      <td>NaN</td>\n",
       "      <td>POINT (124.06015 11.85192)</td>\n",
       "    </tr>\n",
       "  </tbody>\n",
       "</table>\n",
       "</div>"
      ],
      "text/plain": [
       "                   y           x  street_count  mode highway junction railway  \\\n",
       "osmid                                                                           \n",
       "300744370  11.762615  124.033762             3  road     NaN      NaN     NaN   \n",
       "300744933  11.764680  124.063952             3  road     NaN      NaN     NaN   \n",
       "300744970  11.863829  124.057783             3  road     NaN      NaN     NaN   \n",
       "300746507  11.964546  123.991640             3  road     NaN      NaN     NaN   \n",
       "300747572  11.851925  124.060147             3  road     NaN      NaN     NaN   \n",
       "\n",
       "                             geometry  \n",
       "osmid                                  \n",
       "300744370  POINT (124.03376 11.76261)  \n",
       "300744933  POINT (124.06395 11.76468)  \n",
       "300744970  POINT (124.05778 11.86383)  \n",
       "300746507  POINT (123.99164 11.96455)  \n",
       "300747572  POINT (124.06015 11.85192)  "
      ]
     },
     "execution_count": 13,
     "metadata": {},
     "output_type": "execute_result"
    }
   ],
   "source": [
    "graph_transport = ox.load_graphml(TRANSPORT_NETWORK_FILE)\n",
    "gdf_nodes = ox.graph_to_gdfs(graph_transport, edges=False)\n",
    "gdf_nodes.head()"
   ]
  },
  {
   "cell_type": "markdown",
   "metadata": {},
   "source": [
    "## 3 Compute centrality measures"
   ]
  },
  {
   "cell_type": "code",
   "execution_count": 15,
   "metadata": {},
   "outputs": [
    {
     "data": {
      "text/plain": [
       "count    56401.000000\n",
       "mean         0.000044\n",
       "std          0.000018\n",
       "min          0.000000\n",
       "25%          0.000018\n",
       "50%          0.000053\n",
       "75%          0.000053\n",
       "max          0.000142\n",
       "Name: degree, dtype: float64"
      ]
     },
     "execution_count": 15,
     "metadata": {},
     "output_type": "execute_result"
    }
   ],
   "source": [
    "gdf_nodes[\"degree\"] = nx.degree_centrality(graph_transport).values()\n",
    "gdf_nodes[\"degree\"].describe()"
   ]
  },
  {
   "cell_type": "code",
   "execution_count": null,
   "metadata": {},
   "outputs": [
    {
     "data": {
      "text/plain": [
       "count    56401.000000\n",
       "mean         0.004990\n",
       "std          0.001106\n",
       "min          0.000000\n",
       "25%          0.004116\n",
       "50%          0.005104\n",
       "75%          0.005874\n",
       "max          0.006919\n",
       "Name: closeness, dtype: float64"
      ]
     },
     "execution_count": 16,
     "metadata": {},
     "output_type": "execute_result"
    }
   ],
   "source": [
    "gdf_nodes[\"closeness\"] = nx.closeness_centrality(graph_transport).values()\n",
    "gdf_nodes[\"closeness\"].describe()"
   ]
  },
  {
   "cell_type": "code",
   "execution_count": 22,
   "metadata": {},
   "outputs": [
    {
     "data": {
      "text/plain": [
       "count    56401.000000\n",
       "mean         0.003528\n",
       "std          0.016094\n",
       "min          0.000000\n",
       "25%          0.000000\n",
       "50%          0.000070\n",
       "75%          0.000456\n",
       "max          0.300338\n",
       "Name: betweenness, dtype: float64"
      ]
     },
     "execution_count": 22,
     "metadata": {},
     "output_type": "execute_result"
    }
   ],
   "source": [
    "gdf_nodes[\"betweenness\"] = nx.betweenness_centrality(graph_transport).values()\n",
    "gdf_nodes[\"betweenness\"].describe()"
   ]
  },
  {
   "cell_type": "code",
   "execution_count": 23,
   "metadata": {},
   "outputs": [],
   "source": [
    "filepath = os.path.join(BASE_PATH, \"centrality_measures_2.csv\")\n",
    "gdf_nodes.to_csv(filepath, columns=[\"degree\", \"closeness\", \"betweenness\"], index=True)"
   ]
  },
  {
   "cell_type": "markdown",
   "metadata": {},
   "source": [
    "## 4 Compute metrics for each town"
   ]
  },
  {
   "cell_type": "code",
   "execution_count": null,
   "metadata": {},
   "outputs": [],
   "source": [
    "def calculate_town_metrics(\n",
    "    town_name: str,\n",
    "    boundaries_gdf: gpd.GeoDataFrame,\n",
    "    nodes_gdf: gpd.GeoDataFrame,\n",
    "    full_graph: nx.Graph,\n",
    ") -> dict:\n",
    "    \"\"\"Calculates all transport network metrics for a single town.\"\"\"\n",
    "    town_metrics = {\"town\": town_name}\n",
    "    town_boundary = boundaries_gdf[boundaries_gdf[\"town\"] == town_name]\n",
    "\n",
    "    nodes_in_town = gpd.sjoin(nodes_gdf, town_boundary, how=\"inner\", predicate=\"within\")\n",
    "    town_metrics[\"avg_degree\"] = nodes_in_town[\"degree\"].mean()\n",
    "    town_metrics[\"avg_betweenness\"] = nodes_in_town[\"betweenness\"].mean()\n",
    "    town_metrics[\"avg_closeness\"] = nodes_in_town[\"closeness\"].mean()\n",
    "\n",
    "    town_subgraph = full_graph.subgraph(nodes_in_town.index)\n",
    "\n",
    "    if not nx.is_connected(town_subgraph):\n",
    "        largest_cc = max(nx.connected_components(town_subgraph), key=len)\n",
    "        subgraph_for_analysis = town_subgraph.subgraph(largest_cc)\n",
    "    else:\n",
    "        subgraph_for_analysis = town_subgraph\n",
    "\n",
    "    town_metrics[\"network_density\"] = nx.density(town_subgraph)\n",
    "    town_metrics[\"avg_clustering\"] = nx.average_clustering(Graph(town_subgraph))\n",
    "    # town_metrics[\"network_diameter\"] = nx.diameter(subgraph_for_analysis)\n",
    "    # town_metrics[\"avg_path_length\"] = nx.average_shortest_path_length(subgraph_for_analysis)\n",
    "\n",
    "    return town_metrics"
   ]
  },
  {
   "cell_type": "code",
   "execution_count": null,
   "metadata": {},
   "outputs": [
    {
     "name": "stdout",
     "output_type": "stream",
     "text": [
      "                  avg_degree  avg_betweenness  avg_closeness  network_density  avg_clustering\n",
      "town                                                                                         \n",
      "Aroroy              0.000043     3.196802e-03       0.005466         0.003937        0.042272\n",
      "Baao                0.000044     2.216463e-03       0.005905         0.004325        0.025000\n",
      "Bacacay             0.000042     9.642322e-04       0.004373         0.004257        0.023723\n",
      "Bagamanoc           0.000043     9.105469e-04       0.003144         0.014739        0.056911\n",
      "Balatan             0.000046     5.637181e-03       0.006357         0.013931        0.038251\n",
      "Baleno              0.000041     7.429846e-04       0.005049         0.017684        0.028424\n",
      "Balud               0.000041     4.737773e-04       0.003407         0.007683        0.052013\n",
      "Baras               0.000040     8.952088e-04       0.003124         0.009873        0.042754\n",
      "Barcelona           0.000044     8.430132e-04       0.004171         0.017497        0.046229\n",
      "Basud               0.000045     8.797341e-03       0.004646         0.004185        0.060962\n",
      "Bato                0.000044     5.236651e-03       0.005057         0.003931        0.034306\n",
      "Batuan              0.000043     2.340440e-03       0.006145         0.048980        0.040000\n",
      "Bombon              0.000043     4.371611e-03       0.005885         0.034226        0.031250\n",
      "Buhi                0.000044     1.362944e-03       0.005901         0.006053        0.017032\n",
      "Bula                0.000044     2.773379e-03       0.006419         0.004097        0.022969\n",
      "Bulan               0.000045     3.833946e-03       0.004847         0.003282        0.046058\n",
      "Bulusan             0.000043     5.989048e-04       0.003871         0.014357        0.084830\n",
      "Cabusao             0.000045     3.646274e-03       0.005791         0.011271        0.049020\n",
      "Calabanga           0.000043     7.457116e-03       0.005788         0.004584        0.026232\n",
      "Camalig             0.000043     3.165183e-03       0.006039         0.002315        0.026102\n",
      "Camaligan           0.000043     6.307592e-03       0.006185         0.019452        0.022792\n",
      "Canaman             0.000044     1.503392e-03       0.005786         0.006317        0.036889\n",
      "Capalonga           0.000045     6.577249e-04       0.003228         0.009237        0.046424\n",
      "Caramoan            0.000045     7.561462e-04       0.003477         0.007272        0.066474\n",
      "Caramoran           0.000047     5.590553e-03       0.003968         0.007515        0.079524\n",
      "Casiguran           0.000044     2.678867e-03       0.004317         0.009636        0.047990\n",
      "Castilla            0.000043     2.783656e-03       0.005042         0.005963        0.059967\n",
      "Cataingan           0.000044     1.127423e-03       0.003483         0.006240        0.046717\n",
      "Cawayan             0.000042     7.780981e-04       0.003354         0.004936        0.021846\n",
      "Claveria            0.000042     1.598729e-02       0.005125         0.008617        0.043478\n",
      "Daet                0.000049     8.146879e-04       0.004027         0.001536        0.049441\n",
      "Daraga              0.000042     2.347173e-03       0.005633         0.000834        0.027065\n",
      "Del Gallego         0.000043     6.059013e-04       0.003798         0.008961        0.034696\n",
      "Dimasalang          0.000041     5.430178e-04       0.003729         0.016182        0.058685\n",
      "Donsol              0.000043     8.006287e-03       0.006248         0.006569        0.029359\n",
      "Esperanza           0.000041     3.898334e-04       0.003129         0.014330        0.027254\n",
      "Gainza              0.000044     8.197778e-03       0.006412         0.044156        0.050595\n",
      "Garchitorena        0.000045     4.569862e-04       0.003022         0.014253        0.080038\n",
      "Gigmoto             0.000045     4.880948e-04       0.002947         0.021739        0.068966\n",
      "Goa                 0.000045     3.664522e-03       0.004898         0.004202        0.049944\n",
      "Gubat               0.000046     9.466405e-04       0.004088         0.005692        0.038148\n",
      "Guinobatan          0.000044     3.428797e-03       0.006178         0.002793        0.038101\n",
      "Iriga City          0.000044     5.813857e-03       0.005903         0.002379        0.028865\n",
      "Irosin              0.000042     8.580312e-04       0.004148         0.005082        0.043897\n",
      "Jose Panganiban     0.000043     8.223916e-04       0.003641         0.005735        0.032858\n",
      "Jovellar            0.000039     2.190753e-02       0.006550         0.021188        0.028053\n",
      "Juban               0.000045     2.416739e-03       0.004562         0.012100        0.039075\n",
      "Labo                0.000043     1.280125e-03       0.003660         0.002434        0.040901\n",
      "Lagonoy             0.000045     2.269066e-03       0.004517         0.007296        0.040806\n",
      "Legazpi City        0.000044     1.828173e-03       0.005131         0.000696        0.038676\n",
      "Libmanan            0.000042     1.051685e-02       0.005873         0.003171        0.036788\n",
      "Libon               0.000044     9.475224e-03       0.006551         0.006042        0.056799\n",
      "Ligao City          0.000045     5.093411e-03       0.006313         0.002402        0.041492\n",
      "Lupi                0.000045     1.051751e-02       0.005082         0.007906        0.066353\n",
      "Magallanes          0.000043     5.307813e-04       0.004444         0.010262        0.046414\n",
      "Magarao             0.000048     2.137260e-03       0.005818         0.012476        0.079710\n",
      "Malilipot           0.000044     1.507499e-03       0.004467         0.011215        0.068217\n",
      "Malinao             0.000042     6.319266e-03       0.005031         0.008318        0.050699\n",
      "Mandaon             0.000041     2.540128e-03       0.004546         0.009047        0.058170\n",
      "Manito              0.000043     9.212157e-03       0.005115         0.013846        0.022158\n",
      "Masbate City        0.000044     5.407132e-03       0.005486         0.002912        0.041422\n",
      "Matnog              0.000042     9.981083e-04       0.004012         0.013901        0.080357\n",
      "Mercedes            0.000045     2.687504e-03       0.003916         0.005146        0.052795\n",
      "Milagros            0.000040     5.617725e-04       0.004227         0.004834        0.044254\n",
      "Milaor              0.000044     7.653921e-03       0.006223         0.009820        0.035961\n",
      "Minalabac           0.000044     1.270054e-02       0.006568         0.006055        0.044776\n",
      "Mobo                0.000042     1.617312e-02       0.004660         0.011226        0.061404\n",
      "Monreal             0.000042     1.414647e-02       0.005552         0.019239        0.031421\n",
      "Nabua               0.000045     1.458453e-03       0.006358         0.004126        0.023651\n",
      "Naga City           0.000048     9.596435e-04       0.005570         0.000571        0.046735\n",
      "Oas                 0.000049     4.730792e-03       0.006329         0.004859        0.037237\n",
      "Ocampo              0.000041     1.635026e-03       0.005635         0.005465        0.028777\n",
      "Palanas             0.000044     1.194255e-03       0.003655         0.012203        0.053872\n",
      "Pamplona            0.000044     1.540763e-02       0.006407         0.008371        0.042373\n",
      "Pandan              0.000046     5.395922e-04       0.003177         0.008076        0.056244\n",
      "Panganiban          0.000047     3.209185e-03       0.003557         0.016851        0.031646\n",
      "Paracale            0.000043     4.294799e-03       0.003749         0.006277        0.027632\n",
      "Pasacao             0.000044     1.694203e-02       0.006238         0.006500        0.055846\n",
      "Pilar               0.000042     1.055522e-02       0.005825         0.004859        0.039945\n",
      "Pili                0.000045     2.077360e-03       0.005947         0.002007        0.040997\n",
      "Pio Duran           0.000048     4.028470e-03       0.006208         0.010918        0.053523\n",
      "Pio V. Corpus       0.000043     1.054266e-03       0.003230         0.012926        0.057658\n",
      "Placer              0.000043     1.329470e-03       0.003537         0.008451        0.034620\n",
      "Polangui            0.000047     2.159231e-03       0.006232         0.003499        0.033155\n",
      "Presentacion        0.000044     2.621038e-03       0.004008         0.013061        0.088133\n",
      "Prieto Diaz         0.000046     5.413761e-04       0.003637         0.009137        0.069686\n",
      "Ragay               0.000043     1.938529e-03       0.004570         0.004721        0.041585\n",
      "Rapu-Rapu           0.000042     6.551111e-07       0.000154         0.014115        0.032738\n",
      "Sagñay              0.000040     2.394962e-02       0.005320         0.012021        0.035897\n",
      "San Andres          0.000046     1.103606e-02       0.004418         0.006009        0.053888\n",
      "San Fernando        0.000044     4.113579e-03       0.006179         0.003912        0.050314\n",
      "San Jacinto         0.000048     9.575582e-03       0.005501         0.014414        0.029570\n",
      "San Jose            0.000044     4.210928e-03       0.004947         0.007379        0.033736\n",
      "San Lorenzo Ruiz    0.000042     8.023968e-03       0.004473         0.012987        0.045455\n",
      "San Miguel          0.000043     5.614318e-04       0.003091         0.012101        0.042929\n",
      "San Pascual         0.000042     1.827061e-02       0.005844         0.009833        0.045139\n",
      "San Vicente         0.000047     3.391650e-03       0.004064         0.012906        0.079208\n",
      "Santa Elena         0.000042     8.676012e-04       0.003054         0.007207        0.029618\n",
      "Santa Magdalena     0.000043     7.086411e-04       0.003965         0.020840        0.022989\n",
      "Santo Domingo       0.000047     2.552926e-03       0.004532         0.010434        0.044312\n",
      "Sipocot             0.000043     1.042682e-02       0.005362         0.005146        0.049784\n",
      "Siruma              0.000041     3.607673e-04       0.003984         0.011226        0.050239\n",
      "Sorsogon City       0.000046     1.749164e-03       0.004132         0.001321        0.044639\n",
      "Tabaco City         0.000045     2.863576e-03       0.004668         0.002285        0.034873\n",
      "Talisay             0.000045     3.496600e-04       0.003904         0.009087        0.025309\n",
      "Tigaon              0.000043     2.148629e-03       0.005077         0.005099        0.039362\n",
      "Tinambac            0.000045     6.227937e-03       0.004829         0.004159        0.054461\n",
      "Tiwi                0.000045     3.765068e-03       0.005122         0.004956        0.030744\n",
      "Uson                0.000045     7.150824e-03       0.003907         0.008947        0.030686\n",
      "Viga                0.000045     1.532448e-03       0.003374         0.008833        0.053613\n",
      "Vinzons             0.000044     7.791715e-04       0.003890         0.007442        0.038384\n",
      "Virac               0.000047     1.181195e-03       0.003816         0.001994        0.038567\n"
     ]
    }
   ],
   "source": [
    "all_town_metrics = [\n",
    "    calculate_town_metrics(town_name, gdf_boundaries, gdf_nodes.copy(), graph_transport)\n",
    "    for town_name in sorted(gdf_boundaries[\"town\"].unique())\n",
    "]\n",
    "\n",
    "df_town_metrics = pd.DataFrame(all_town_metrics).set_index(\"town\")\n",
    "df_town_metrics.head()"
   ]
  },
  {
   "cell_type": "code",
   "execution_count": null,
   "metadata": {},
   "outputs": [],
   "source": [
    "filepath = os.path.join(BASE_PATH, \"town_metrics.csv\")\n",
    "df_town_metrics.to_csv(filepath, index=True)"
   ]
  }
 ],
 "metadata": {
  "colab": {
   "authorship_tag": "ABX9TyMw3NNXRH+VCd9g/d+js6zm",
   "mount_file_id": "14dsSoZwMZc_zcyfWA-gE9ykIA1j1kH73",
   "provenance": [],
   "toc_visible": true
  },
  "kernelspec": {
   "display_name": ".venv",
   "language": "python",
   "name": "python3"
  },
  "language_info": {
   "codemirror_mode": {
    "name": "ipython",
    "version": 3
   },
   "file_extension": ".py",
   "mimetype": "text/x-python",
   "name": "python",
   "nbconvert_exporter": "python",
   "pygments_lexer": "ipython3",
   "version": "3.13.5"
  }
 },
 "nbformat": 4,
 "nbformat_minor": 0
}

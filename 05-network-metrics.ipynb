{
 "cells": [
  {
   "cell_type": "markdown",
   "metadata": {
    "id": "q-CksUqasXbT"
   },
   "source": [
    "# Transport Network Metrics"
   ]
  },
  {
   "cell_type": "markdown",
   "metadata": {},
   "source": [
    "## 0 Setup environment"
   ]
  },
  {
   "cell_type": "code",
   "execution_count": 1,
   "metadata": {
    "id": "m3Suwlq46VYN"
   },
   "outputs": [],
   "source": [
    "import os\n",
    "\n",
    "import geopandas as gpd\n",
    "import networkx as nx\n",
    "import osmnx as ox\n",
    "import pandas as pd\n",
    "from networkx import Graph"
   ]
  },
  {
   "cell_type": "code",
   "execution_count": 2,
   "metadata": {
    "id": "bfiHEdN2GxEv"
   },
   "outputs": [],
   "source": [
    "BASE_PATH = \"./data\"\n",
    "BOUNDARIES_FILE = os.path.join(BASE_PATH, \"boundaries.gpkg\")\n",
    "TRANSPORT_NETWORK_FILE = os.path.join(BASE_PATH, \"merged_network_simplified.graphml\")"
   ]
  },
  {
   "cell_type": "markdown",
   "metadata": {},
   "source": [
    "## 1 Load town boundaries"
   ]
  },
  {
   "cell_type": "code",
   "execution_count": 3,
   "metadata": {},
   "outputs": [
    {
     "data": {
      "text/html": [
       "<div>\n",
       "<style scoped>\n",
       "    .dataframe tbody tr th:only-of-type {\n",
       "        vertical-align: middle;\n",
       "    }\n",
       "\n",
       "    .dataframe tbody tr th {\n",
       "        vertical-align: top;\n",
       "    }\n",
       "\n",
       "    .dataframe thead th {\n",
       "        text-align: right;\n",
       "    }\n",
       "</style>\n",
       "<table border=\"1\" class=\"dataframe\">\n",
       "  <thead>\n",
       "    <tr style=\"text-align: right;\">\n",
       "      <th></th>\n",
       "      <th>town</th>\n",
       "      <th>province</th>\n",
       "      <th>geometry</th>\n",
       "    </tr>\n",
       "  </thead>\n",
       "  <tbody>\n",
       "    <tr>\n",
       "      <th>0</th>\n",
       "      <td>Bacacay</td>\n",
       "      <td>Albay</td>\n",
       "      <td>MULTIPOLYGON (((123.84193 13.3341, 123.84204 1...</td>\n",
       "    </tr>\n",
       "    <tr>\n",
       "      <th>1</th>\n",
       "      <td>Camalig</td>\n",
       "      <td>Albay</td>\n",
       "      <td>MULTIPOLYGON (((123.6559 13.06131, 123.65536 1...</td>\n",
       "    </tr>\n",
       "    <tr>\n",
       "      <th>2</th>\n",
       "      <td>Daraga</td>\n",
       "      <td>Albay</td>\n",
       "      <td>MULTIPOLYGON (((123.71487 13.03995, 123.71474 ...</td>\n",
       "    </tr>\n",
       "    <tr>\n",
       "      <th>3</th>\n",
       "      <td>Guinobatan</td>\n",
       "      <td>Albay</td>\n",
       "      <td>MULTIPOLYGON (((123.68355 13.25321, 123.67729 ...</td>\n",
       "    </tr>\n",
       "    <tr>\n",
       "      <th>4</th>\n",
       "      <td>Jovellar</td>\n",
       "      <td>Albay</td>\n",
       "      <td>MULTIPOLYGON (((123.6559 13.06131, 123.65568 1...</td>\n",
       "    </tr>\n",
       "  </tbody>\n",
       "</table>\n",
       "</div>"
      ],
      "text/plain": [
       "         town province                                           geometry\n",
       "0     Bacacay    Albay  MULTIPOLYGON (((123.84193 13.3341, 123.84204 1...\n",
       "1     Camalig    Albay  MULTIPOLYGON (((123.6559 13.06131, 123.65536 1...\n",
       "2      Daraga    Albay  MULTIPOLYGON (((123.71487 13.03995, 123.71474 ...\n",
       "3  Guinobatan    Albay  MULTIPOLYGON (((123.68355 13.25321, 123.67729 ...\n",
       "4    Jovellar    Albay  MULTIPOLYGON (((123.6559 13.06131, 123.65568 1..."
      ]
     },
     "execution_count": 3,
     "metadata": {},
     "output_type": "execute_result"
    }
   ],
   "source": [
    "gdf_boundaries = gpd.read_file(BOUNDARIES_FILE)\n",
    "gdf_boundaries.head()"
   ]
  },
  {
   "cell_type": "markdown",
   "metadata": {},
   "source": [
    "## 2 Load transport network"
   ]
  },
  {
   "cell_type": "code",
   "execution_count": 4,
   "metadata": {},
   "outputs": [
    {
     "data": {
      "text/html": [
       "<div>\n",
       "<style scoped>\n",
       "    .dataframe tbody tr th:only-of-type {\n",
       "        vertical-align: middle;\n",
       "    }\n",
       "\n",
       "    .dataframe tbody tr th {\n",
       "        vertical-align: top;\n",
       "    }\n",
       "\n",
       "    .dataframe thead th {\n",
       "        text-align: right;\n",
       "    }\n",
       "</style>\n",
       "<table border=\"1\" class=\"dataframe\">\n",
       "  <thead>\n",
       "    <tr style=\"text-align: right;\">\n",
       "      <th></th>\n",
       "      <th>y</th>\n",
       "      <th>x</th>\n",
       "      <th>street_count</th>\n",
       "      <th>mode</th>\n",
       "      <th>highway</th>\n",
       "      <th>junction</th>\n",
       "      <th>railway</th>\n",
       "      <th>geometry</th>\n",
       "    </tr>\n",
       "    <tr>\n",
       "      <th>osmid</th>\n",
       "      <th></th>\n",
       "      <th></th>\n",
       "      <th></th>\n",
       "      <th></th>\n",
       "      <th></th>\n",
       "      <th></th>\n",
       "      <th></th>\n",
       "      <th></th>\n",
       "    </tr>\n",
       "  </thead>\n",
       "  <tbody>\n",
       "    <tr>\n",
       "      <th>300744370</th>\n",
       "      <td>11.762615</td>\n",
       "      <td>124.033762</td>\n",
       "      <td>3</td>\n",
       "      <td>road</td>\n",
       "      <td>NaN</td>\n",
       "      <td>NaN</td>\n",
       "      <td>NaN</td>\n",
       "      <td>POINT (124.03376 11.76261)</td>\n",
       "    </tr>\n",
       "    <tr>\n",
       "      <th>300744933</th>\n",
       "      <td>11.764680</td>\n",
       "      <td>124.063952</td>\n",
       "      <td>3</td>\n",
       "      <td>road</td>\n",
       "      <td>NaN</td>\n",
       "      <td>NaN</td>\n",
       "      <td>NaN</td>\n",
       "      <td>POINT (124.06395 11.76468)</td>\n",
       "    </tr>\n",
       "    <tr>\n",
       "      <th>300744970</th>\n",
       "      <td>11.863829</td>\n",
       "      <td>124.057783</td>\n",
       "      <td>3</td>\n",
       "      <td>road</td>\n",
       "      <td>NaN</td>\n",
       "      <td>NaN</td>\n",
       "      <td>NaN</td>\n",
       "      <td>POINT (124.05778 11.86383)</td>\n",
       "    </tr>\n",
       "    <tr>\n",
       "      <th>300745522</th>\n",
       "      <td>11.910286</td>\n",
       "      <td>123.908284</td>\n",
       "      <td>3</td>\n",
       "      <td>road</td>\n",
       "      <td>NaN</td>\n",
       "      <td>NaN</td>\n",
       "      <td>NaN</td>\n",
       "      <td>POINT (123.90828 11.91029)</td>\n",
       "    </tr>\n",
       "    <tr>\n",
       "      <th>300746507</th>\n",
       "      <td>11.964546</td>\n",
       "      <td>123.991640</td>\n",
       "      <td>3</td>\n",
       "      <td>road</td>\n",
       "      <td>NaN</td>\n",
       "      <td>NaN</td>\n",
       "      <td>NaN</td>\n",
       "      <td>POINT (123.99164 11.96455)</td>\n",
       "    </tr>\n",
       "  </tbody>\n",
       "</table>\n",
       "</div>"
      ],
      "text/plain": [
       "                   y           x  street_count  mode highway junction railway  \\\n",
       "osmid                                                                           \n",
       "300744370  11.762615  124.033762             3  road     NaN      NaN     NaN   \n",
       "300744933  11.764680  124.063952             3  road     NaN      NaN     NaN   \n",
       "300744970  11.863829  124.057783             3  road     NaN      NaN     NaN   \n",
       "300745522  11.910286  123.908284             3  road     NaN      NaN     NaN   \n",
       "300746507  11.964546  123.991640             3  road     NaN      NaN     NaN   \n",
       "\n",
       "                             geometry  \n",
       "osmid                                  \n",
       "300744370  POINT (124.03376 11.76261)  \n",
       "300744933  POINT (124.06395 11.76468)  \n",
       "300744970  POINT (124.05778 11.86383)  \n",
       "300745522  POINT (123.90828 11.91029)  \n",
       "300746507  POINT (123.99164 11.96455)  "
      ]
     },
     "execution_count": 4,
     "metadata": {},
     "output_type": "execute_result"
    }
   ],
   "source": [
    "graph_transport = ox.load_graphml(TRANSPORT_NETWORK_FILE)\n",
    "gdf_nodes = ox.graph_to_gdfs(graph_transport, edges=False)\n",
    "gdf_nodes.head()"
   ]
  },
  {
   "cell_type": "markdown",
   "metadata": {},
   "source": [
    "## 3 Compute centrality measures for all nodes"
   ]
  },
  {
   "cell_type": "code",
   "execution_count": 5,
   "metadata": {},
   "outputs": [],
   "source": [
    "filepath = os.path.join(BASE_PATH, \"centrality_measures.csv\")"
   ]
  },
  {
   "cell_type": "code",
   "execution_count": 6,
   "metadata": {},
   "outputs": [
    {
     "data": {
      "text/plain": [
       "count    56932.000000\n",
       "mean         0.000044\n",
       "std          0.000019\n",
       "min          0.000018\n",
       "25%          0.000018\n",
       "50%          0.000053\n",
       "75%          0.000053\n",
       "max          0.000474\n",
       "Name: degree, dtype: float64"
      ]
     },
     "execution_count": 6,
     "metadata": {},
     "output_type": "execute_result"
    }
   ],
   "source": [
    "gdf_nodes[\"degree\"] = gdf_nodes.index.map(nx.degree_centrality(graph_transport))\n",
    "gdf_nodes[[\"degree\"]].to_csv(filepath)\n",
    "gdf_nodes[\"degree\"].describe()"
   ]
  },
  {
   "cell_type": "code",
   "execution_count": 7,
   "metadata": {},
   "outputs": [
    {
     "data": {
      "text/plain": [
       "count    56932.000000\n",
       "mean         0.004952\n",
       "std          0.001122\n",
       "min          0.000018\n",
       "25%          0.004071\n",
       "50%          0.005072\n",
       "75%          0.005756\n",
       "max          0.007339\n",
       "Name: closeness, dtype: float64"
      ]
     },
     "execution_count": 7,
     "metadata": {},
     "output_type": "execute_result"
    }
   ],
   "source": [
    "gdf_nodes[\"closeness\"] = gdf_nodes.index.map(nx.closeness_centrality(graph_transport))\n",
    "gdf_nodes[[\"degree\", \"closeness\"]].to_csv(filepath)\n",
    "gdf_nodes[\"closeness\"].describe()"
   ]
  },
  {
   "cell_type": "code",
   "execution_count": 8,
   "metadata": {},
   "outputs": [
    {
     "data": {
      "text/plain": [
       "count    56932.000000\n",
       "mean         0.003582\n",
       "std          0.019033\n",
       "min          0.000000\n",
       "25%          0.000000\n",
       "50%          0.000070\n",
       "75%          0.000460\n",
       "max          0.390183\n",
       "Name: betweenness, dtype: float64"
      ]
     },
     "execution_count": 8,
     "metadata": {},
     "output_type": "execute_result"
    }
   ],
   "source": [
    "gdf_nodes[\"betweenness\"] = gdf_nodes.index.map(nx.betweenness_centrality(graph_transport))\n",
    "gdf_nodes[[\"degree\", \"closeness\", \"betweenness\"]].to_csv(filepath)\n",
    "gdf_nodes[\"betweenness\"].describe()"
   ]
  },
  {
   "cell_type": "markdown",
   "metadata": {},
   "source": [
    "## 4 Compute average metrics for each town"
   ]
  },
  {
   "cell_type": "code",
   "execution_count": 12,
   "metadata": {},
   "outputs": [],
   "source": [
    "def calculate_town_metrics(\n",
    "    town_name: str,\n",
    "    boundaries_gdf: gpd.GeoDataFrame,\n",
    "    nodes_gdf: gpd.GeoDataFrame,\n",
    "    full_graph: nx.Graph,\n",
    ") -> dict:\n",
    "    \"\"\"Calculates all transport network metrics for a single town.\"\"\"\n",
    "    town_metrics = {\"town\": town_name}\n",
    "    town_boundary = boundaries_gdf[boundaries_gdf[\"town\"] == town_name]\n",
    "\n",
    "    nodes_in_town = gpd.sjoin(nodes_gdf, town_boundary, how=\"inner\", predicate=\"within\")\n",
    "    town_metrics[\"avg_degree\"] = nodes_in_town[\"degree\"].mean()\n",
    "    town_metrics[\"avg_betweenness\"] = nodes_in_town[\"betweenness\"].mean()\n",
    "    town_metrics[\"avg_closeness\"] = nodes_in_town[\"closeness\"].mean()\n",
    "\n",
    "    town_subgraph = full_graph.subgraph(nodes_in_town.index)\n",
    "\n",
    "    # if not nx.is_connected(town_subgraph):\n",
    "    #     largest_cc = max(nx.connected_components(town_subgraph), key=len)\n",
    "    #     subgraph_for_analysis = town_subgraph.subgraph(largest_cc)\n",
    "    # else:\n",
    "    #     subgraph_for_analysis = town_subgraph\n",
    "\n",
    "    town_metrics[\"network_density\"] = nx.density(town_subgraph)\n",
    "    town_metrics[\"avg_clustering\"] = nx.average_clustering(Graph(town_subgraph))\n",
    "    # town_metrics[\"network_diameter\"] = nx.diameter(subgraph_for_analysis)\n",
    "    # town_metrics[\"avg_path_length\"] = nx.average_shortest_path_length(subgraph_for_analysis)\n",
    "\n",
    "    return town_metrics"
   ]
  },
  {
   "cell_type": "code",
   "execution_count": 13,
   "metadata": {},
   "outputs": [
    {
     "data": {
      "text/html": [
       "<div>\n",
       "<style scoped>\n",
       "    .dataframe tbody tr th:only-of-type {\n",
       "        vertical-align: middle;\n",
       "    }\n",
       "\n",
       "    .dataframe tbody tr th {\n",
       "        vertical-align: top;\n",
       "    }\n",
       "\n",
       "    .dataframe thead th {\n",
       "        text-align: right;\n",
       "    }\n",
       "</style>\n",
       "<table border=\"1\" class=\"dataframe\">\n",
       "  <thead>\n",
       "    <tr style=\"text-align: right;\">\n",
       "      <th></th>\n",
       "      <th>avg_degree</th>\n",
       "      <th>avg_betweenness</th>\n",
       "      <th>avg_closeness</th>\n",
       "      <th>network_density</th>\n",
       "      <th>avg_clustering</th>\n",
       "    </tr>\n",
       "    <tr>\n",
       "      <th>town</th>\n",
       "      <th></th>\n",
       "      <th></th>\n",
       "      <th></th>\n",
       "      <th></th>\n",
       "      <th></th>\n",
       "    </tr>\n",
       "  </thead>\n",
       "  <tbody>\n",
       "    <tr>\n",
       "      <th>Aroroy</th>\n",
       "      <td>0.000043</td>\n",
       "      <td>0.001804</td>\n",
       "      <td>0.005285</td>\n",
       "      <td>0.003937</td>\n",
       "      <td>0.042272</td>\n",
       "    </tr>\n",
       "    <tr>\n",
       "      <th>Baao</th>\n",
       "      <td>0.000043</td>\n",
       "      <td>0.001849</td>\n",
       "      <td>0.005981</td>\n",
       "      <td>0.004325</td>\n",
       "      <td>0.025000</td>\n",
       "    </tr>\n",
       "    <tr>\n",
       "      <th>Bacacay</th>\n",
       "      <td>0.000042</td>\n",
       "      <td>0.001171</td>\n",
       "      <td>0.004564</td>\n",
       "      <td>0.004248</td>\n",
       "      <td>0.020644</td>\n",
       "    </tr>\n",
       "    <tr>\n",
       "      <th>Bagamanoc</th>\n",
       "      <td>0.000042</td>\n",
       "      <td>0.000905</td>\n",
       "      <td>0.003034</td>\n",
       "      <td>0.014739</td>\n",
       "      <td>0.056911</td>\n",
       "    </tr>\n",
       "    <tr>\n",
       "      <th>Balatan</th>\n",
       "      <td>0.000045</td>\n",
       "      <td>0.013441</td>\n",
       "      <td>0.006532</td>\n",
       "      <td>0.013931</td>\n",
       "      <td>0.038251</td>\n",
       "    </tr>\n",
       "  </tbody>\n",
       "</table>\n",
       "</div>"
      ],
      "text/plain": [
       "           avg_degree  avg_betweenness  avg_closeness  network_density  \\\n",
       "town                                                                     \n",
       "Aroroy       0.000043         0.001804       0.005285         0.003937   \n",
       "Baao         0.000043         0.001849       0.005981         0.004325   \n",
       "Bacacay      0.000042         0.001171       0.004564         0.004248   \n",
       "Bagamanoc    0.000042         0.000905       0.003034         0.014739   \n",
       "Balatan      0.000045         0.013441       0.006532         0.013931   \n",
       "\n",
       "           avg_clustering  \n",
       "town                       \n",
       "Aroroy           0.042272  \n",
       "Baao             0.025000  \n",
       "Bacacay          0.020644  \n",
       "Bagamanoc        0.056911  \n",
       "Balatan          0.038251  "
      ]
     },
     "execution_count": 13,
     "metadata": {},
     "output_type": "execute_result"
    }
   ],
   "source": [
    "all_town_metrics = [\n",
    "    calculate_town_metrics(town_name, gdf_boundaries, gdf_nodes.copy(), graph_transport)\n",
    "    for town_name in sorted(gdf_boundaries[\"town\"].unique())\n",
    "]\n",
    "\n",
    "df_town_metrics = pd.DataFrame(all_town_metrics).set_index(\"town\")\n",
    "df_town_metrics.head()"
   ]
  },
  {
   "cell_type": "code",
   "execution_count": 14,
   "metadata": {},
   "outputs": [],
   "source": [
    "filepath = os.path.join(BASE_PATH, \"town_metrics.csv\")\n",
    "df_town_metrics.to_csv(filepath, index=True)"
   ]
  }
 ],
 "metadata": {
  "colab": {
   "authorship_tag": "ABX9TyMw3NNXRH+VCd9g/d+js6zm",
   "mount_file_id": "14dsSoZwMZc_zcyfWA-gE9ykIA1j1kH73",
   "provenance": [],
   "toc_visible": true
  },
  "kernelspec": {
   "display_name": ".venv",
   "language": "python",
   "name": "python3"
  },
  "language_info": {
   "codemirror_mode": {
    "name": "ipython",
    "version": 3
   },
   "file_extension": ".py",
   "mimetype": "text/x-python",
   "name": "python",
   "nbconvert_exporter": "python",
   "pygments_lexer": "ipython3",
   "version": "3.13.5"
  }
 },
 "nbformat": 4,
 "nbformat_minor": 0
}
